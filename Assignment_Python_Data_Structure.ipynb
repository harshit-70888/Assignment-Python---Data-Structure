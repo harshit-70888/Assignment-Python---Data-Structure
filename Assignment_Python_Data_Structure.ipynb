{
  "nbformat": 4,
  "nbformat_minor": 0,
  "metadata": {
    "colab": {
      "provenance": []
    },
    "kernelspec": {
      "name": "python3",
      "display_name": "Python 3"
    },
    "language_info": {
      "name": "python"
    }
  },
  "cells": [
    {
      "cell_type": "markdown",
      "source": [
        "# **Data Types and Structures Questions**"
      ],
      "metadata": {
        "id": "72Y7-atGyLP4"
      }
    },
    {
      "cell_type": "markdown",
      "source": [
        "Q-1 What are data structures, and why are they important ?"
      ],
      "metadata": {
        "id": "owAuzSv0yUxl"
      }
    },
    {
      "cell_type": "markdown",
      "source": [
        "ANS-\n",
        "Data structures are ways of organizing and storing data so that it can be accessed and modified efficiently. They are important because they help optimize data processing, improve performance, and make it easier to manage large amounts of information in software development."
      ],
      "metadata": {
        "id": "tZ1_cq6xELc9"
      }
    },
    {
      "cell_type": "markdown",
      "source": [
        "Q-2 Explain the difference between mutable and immutable data types with examples."
      ],
      "metadata": {
        "id": "E5CLKw1JERjN"
      }
    },
    {
      "cell_type": "markdown",
      "source": [
        "ANS- Mutable data types can be changed after creation, while immutable data types cannot be changed once created.\n",
        "Examples:\n",
        "\n",
        "**Mutable:**\n",
        "\n",
        "List → You can modify, add, or remove elements.\n",
        "\n",
        "my_list = [1, 2, 3]\n",
        "\n",
        "my_list.append(4)  # Now it's [1, 2, 3, 4]\n",
        "\n",
        "\n",
        "**Immutable:**\n",
        "\n",
        "Tuple, String, int → You cannot change the content directly.\n",
        "\n",
        "my_string = \"hello\"\n",
        "\n",
        "my_string = \"Hello\"  # Creates a new string instead"
      ],
      "metadata": {
        "id": "cZDFw-_NGIXt"
      }
    },
    {
      "cell_type": "markdown",
      "source": [
        "Q-3 What are the main differences between lists and tuples in Python?"
      ],
      "metadata": {
        "id": "yxgqyLEfGygt"
      }
    },
    {
      "cell_type": "markdown",
      "source": [
        "ANS- Here are the main differences between lists and tuples in Python:"
      ],
      "metadata": {
        "id": "uXbpCQDoH4fl"
      }
    },
    {
      "cell_type": "markdown",
      "source": [
        "| Feature         | **List**                         | **Tuple**                      |\n",
        "| --------------- | -------------------------------- | ------------------------------ |\n",
        "| **Mutability**  | Mutable (can be changed)         | Immutable (cannot be changed)  |\n",
        "| **Syntax**      | `[]` (square brackets)           | `()` (parentheses)             |\n",
        "| **Performance** | Slower (due to flexibility)      | Faster (due to immutability)   |\n",
        "\n"
      ],
      "metadata": {
        "id": "OU1TLJ-IHky9"
      }
    },
    {
      "cell_type": "markdown",
      "source": [
        "Q-4 Describe how dictionaries store data."
      ],
      "metadata": {
        "id": "yncZg6zMIP4e"
      }
    },
    {
      "cell_type": "markdown",
      "source": [
        "ANS- Dictionaries in Python store data as key-value pairs using a hash table. Each key is unique and maps to a specific value. Python uses the key's hash to quickly find and retrieve the value, making lookups fast and efficient."
      ],
      "metadata": {
        "id": "ZLMUJhNWIjtt"
      }
    },
    {
      "cell_type": "markdown",
      "source": [
        "Q-5 Why might you use a set instead of a list in Python?"
      ],
      "metadata": {
        "id": "uSYQjNilIxXF"
      }
    },
    {
      "cell_type": "markdown",
      "source": [
        "ANS-\n",
        "You might use a set instead of a list in Python when:\n",
        "\n",
        "* You want to store unique items (sets automatically remove duplicates).\n",
        "\n",
        "* You need faster membership checks (e.g., x in set is faster than x in list).\n",
        "\n",
        "* You want to perform set operations like union, intersection, or difference.\n"
      ],
      "metadata": {
        "id": "50x1HB6OI2d-"
      }
    },
    {
      "cell_type": "markdown",
      "source": [
        "Q-6 What is a string in Python, and how is it different from a list?"
      ],
      "metadata": {
        "id": "OZfgPEwaJZEV"
      }
    },
    {
      "cell_type": "markdown",
      "source": [
        "ANS-\n",
        "A string in Python is a sequence of characters (e.g., \"hello\"), used to store text.In short: and\n",
        "A string stores text and is immutable, while a list can store any data and is mutable"
      ],
      "metadata": {
        "id": "jFg_-7aMJfdd"
      }
    },
    {
      "cell_type": "markdown",
      "source": [
        "Q-7 How do tuples ensure data integrity in Python?"
      ],
      "metadata": {
        "id": "Iki7jicpKFOd"
      }
    },
    {
      "cell_type": "markdown",
      "source": [
        "ANS- Tuples ensure data integrity in Python because they are immutable, meaning once created, their contents cannot be changed. This prevents accidental modification or deletion of data, making tuples ideal for storing fixed sets of values that must stay constant throughout the program."
      ],
      "metadata": {
        "id": "SqzB9X6DKmoN"
      }
    },
    {
      "cell_type": "markdown",
      "source": [
        "Q-8 What is a hash table, and how does it relate to dictionaries in Python?"
      ],
      "metadata": {
        "id": "GLvxIDeTKoY1"
      }
    },
    {
      "cell_type": "markdown",
      "source": [
        "ANS-\n",
        "A hash table is a data structure that stores data in key-value pairs and uses a hash function to convert keys into indexes for fast data lookup.\n",
        "\n",
        "In Python, dictionaries use a hash table internally. When you provide a key, Python computes its hash to quickly find where the value is stored, making data access very fast."
      ],
      "metadata": {
        "id": "qpVjMk4eKzrF"
      }
    },
    {
      "cell_type": "markdown",
      "source": [
        "Q-9  Can lists contain different data types in Python?"
      ],
      "metadata": {
        "id": "YDh3JfKdLJ7V"
      }
    },
    {
      "cell_type": "markdown",
      "source": [
        "ANS- Yes, lists in Python can contain different data types together.\n",
        "\n",
        "**For example**: my_list = [1, \"harshit\", 3.14, True]"
      ],
      "metadata": {
        "id": "y0BWT20CLYN9"
      }
    },
    {
      "cell_type": "markdown",
      "source": [
        "Q-10 Explain why strings are immutable in Python."
      ],
      "metadata": {
        "id": "9Q1scacfL2KN"
      }
    },
    {
      "cell_type": "markdown",
      "source": [
        "ANS- Strings are immutable in Python to ensure data integrity and performance. Because strings can't be changed after creation:\n",
        "\n",
        "* It prevents accidental modification of text data.\n",
        "\n",
        "* It allows Python to optimize memory usage by reusing string objects.\n",
        "\n",
        "* It makes strings thread-safe (safe to use in multiple parts of a program simultaneously)."
      ],
      "metadata": {
        "id": "EcI1uG04MBi1"
      }
    },
    {
      "cell_type": "markdown",
      "source": [
        "Q-11 What advantages do dictionaries offer over lists for certain tasks?"
      ],
      "metadata": {
        "id": "GqRNHpsPMfst"
      }
    },
    {
      "cell_type": "markdown",
      "source": [
        "\n",
        "ANS- Dictionaries offer these advantages over lists for certain tasks:\n",
        "\n",
        "* Fast lookups: Accessing data by key is much faster than searching a list.\n",
        "\n",
        "* Key-value pairs: Store related data together (e.g., name and age) instead of just values.\n",
        "\n",
        "* Uniqueness of keys: Keys are unique, preventing duplicate entries for identifiers.\n",
        "\n",
        "* Flexible keys: Keys can be strings, numbers, or tuples (immutable types), allowing more meaningful indexing than just positions."
      ],
      "metadata": {
        "id": "ue5WS32MMxmm"
      }
    },
    {
      "cell_type": "markdown",
      "source": [
        "Q-12 Describe a scenario where using a tuple would be preferable over a list."
      ],
      "metadata": {
        "id": "fJMk7JSGM8MG"
      }
    },
    {
      "cell_type": "markdown",
      "source": [
        "ANS- A tuple is preferable over a list when you need to store a fixed set of values that should not change, such as the coordinates of a point (x, y), or the RGB values of a color."
      ],
      "metadata": {
        "id": "ehTi7sH1NNMG"
      }
    },
    {
      "cell_type": "markdown",
      "source": [
        "Q-13 How do sets handle duplicate values in Python?"
      ],
      "metadata": {
        "id": "I7lEk8PWNWyO"
      }
    },
    {
      "cell_type": "markdown",
      "source": [
        "ANS- In Python, sets automatically remove duplicate values. When you add items to a set, any duplicates are ignored, so each value appears only once in the set."
      ],
      "metadata": {
        "id": "qG8j0A0sNlZd"
      }
    },
    {
      "cell_type": "markdown",
      "source": [
        "Q-14 How does the “in” keyword work differently for lists and dictionaries?"
      ],
      "metadata": {
        "id": "s2depz-bNn6m"
      }
    },
    {
      "cell_type": "markdown",
      "source": [
        "ANS- The in keyword works differently for lists and dictionaries like this:\n",
        "\n",
        "* **In lists:**\n",
        "\n",
        "in checks if a value exists anywhere in the list by scanning through all items (slower for large lists).\n",
        "\n",
        "* **In dictionaries:**\n",
        "\n",
        "in checks if a key exists in the dictionary using a hash table, which is much faster."
      ],
      "metadata": {
        "id": "XjENQnjpN_iG"
      }
    },
    {
      "cell_type": "markdown",
      "source": [
        "Q-15 Can you modify the elements of a tuple? Explain why or why not.\n"
      ],
      "metadata": {
        "id": "8bKj2jLDOG1t"
      }
    },
    {
      "cell_type": "markdown",
      "source": [
        "ANS- No, you cannot modify the elements of a tuple because tuples are immutable in Python. Once a tuple is created, its contents cannot be changed — you can’t add, remove, or update items. This immutability ensures data integrity and makes tuples faster and safer to use when you want fixed data"
      ],
      "metadata": {
        "id": "-ly9_fGSOa9W"
      }
    },
    {
      "cell_type": "markdown",
      "source": [
        "Q-16 What is a nested dictionary, and give an example of its use case?"
      ],
      "metadata": {
        "id": "oRmcDrcEOqdd"
      }
    },
    {
      "cell_type": "markdown",
      "source": [
        "ANS- A nested dictionary is a dictionary where values themselves are dictionaries. This lets you store complex, hierarchical data.\n",
        "\n",
        "EXAMPLE:- students = {\n",
        "    \"Alice\": {\"Math\": 90, \"Science\": 85}, \"Bob\": {\"Math\": 78, \"Science\": 82}"
      ],
      "metadata": {
        "id": "oo4GYqb4OyfV"
      }
    },
    {
      "cell_type": "markdown",
      "source": [
        "Q-17  Describe the time complexity of accessing elements in a dictionary."
      ],
      "metadata": {
        "id": "EhQS96HaPZe9"
      }
    },
    {
      "cell_type": "markdown",
      "source": [
        "ANS- Accessing elements in a dictionary generally has O(1) time complexity—meaning it takes constant time. This is because dictionaries use a hash table, which allows Python to quickly locate the value by computing the key's hash."
      ],
      "metadata": {
        "id": "c00clwsaP3aN"
      }
    },
    {
      "cell_type": "markdown",
      "source": [
        "Q-18 In what situations are lists preferred over dictionaries?"
      ],
      "metadata": {
        "id": "JHdYB6Y_QJgm"
      }
    },
    {
      "cell_type": "markdown",
      "source": [
        "ANS- Lists and dictionaries both store collections of items, but they’re designed for different use cases.\n",
        "\n",
        " Here are some situations where lists are preferred over dictionaries:\n",
        "\n",
        " 1.Ordered Data 2.Simple Collections of Items 3.Index-Based Access 4.Duplicates Allowed 5.Iterating Over Elements 6.Memory Efficiency"
      ],
      "metadata": {
        "id": "DxuUnEB2Ql4W"
      }
    },
    {
      "cell_type": "markdown",
      "source": [
        "Q-19 Why are dictionaries considered unordered, and how does that affect data retrieval?"
      ],
      "metadata": {
        "id": "vETfjyIpQ9I9"
      }
    },
    {
      "cell_type": "markdown",
      "source": [
        "ANS- Dictionaries are considered unordered because they retrieve values by keys, not by position. Before Python 3.7, they didn’t preserve insertion order. Even though newer versions do, dictionaries still don’t support index-based access. This affects data retrieval by requiring you to know the key to get a value — you can't access items by position like in a list."
      ],
      "metadata": {
        "id": "BKPGVq-KRCP_"
      }
    },
    {
      "cell_type": "markdown",
      "source": [
        "Q-20 P Explain the difference between a list and a dictionary in terms of data retrieval."
      ],
      "metadata": {
        "id": "np3KppEiRoRG"
      }
    },
    {
      "cell_type": "markdown",
      "source": [
        "ANS -Difference between a List and a Dictionary in terms of Data Retrieval:\n",
        "\n",
        "**List:**\n",
        "\n",
        "Data is retrieved using an index (position). You must know the item's position in the list.\n",
        "\n",
        " Example: my_list[2] gives the 3rd item.\n",
        "\n",
        "**Dictionary:**\n",
        "\n",
        "Data is retrieved using a key (a unique identifier). You must know the key to access its value.\n",
        "\n",
        "Example: my_dict[\"name\"] gives the value for the key \"name\".\n",
        "\n",
        "**Key Point:**\n",
        "\n",
        "**List** = position-based retrieval\n",
        "\n",
        "**Dictionary** = key-based retrieval"
      ],
      "metadata": {
        "id": "NSpppiv-RwJH"
      }
    },
    {
      "cell_type": "markdown",
      "source": [
        "# **Practical Questions**"
      ],
      "metadata": {
        "id": "gix5swWOSvj-"
      }
    },
    {
      "cell_type": "markdown",
      "source": [
        "Q-1 Write a code to create a string with your name and print it."
      ],
      "metadata": {
        "id": "1xcUEBVCS4UW"
      }
    },
    {
      "cell_type": "code",
      "source": [
        "a = \"harshit mishra\"\n",
        "print(a)"
      ],
      "metadata": {
        "colab": {
          "base_uri": "https://localhost:8080/"
        },
        "id": "ja8l074GS8uv",
        "outputId": "19520d79-a6e6-4704-839e-3b2fab174956"
      },
      "execution_count": 1,
      "outputs": [
        {
          "output_type": "stream",
          "name": "stdout",
          "text": [
            "harshit mishra\n"
          ]
        }
      ]
    },
    {
      "cell_type": "markdown",
      "source": [
        "Q-2 Write a code to find the length of the string \"Hello World\"."
      ],
      "metadata": {
        "id": "5x7j5QfZTeCG"
      }
    },
    {
      "cell_type": "code",
      "source": [
        "a = \"hello world\"\n",
        "print(a)\n",
        "print(len(a))"
      ],
      "metadata": {
        "colab": {
          "base_uri": "https://localhost:8080/"
        },
        "id": "3lnlDpGDThOY",
        "outputId": "8d6bfb96-15b9-4175-b1e7-e73e4e88b35d"
      },
      "execution_count": 2,
      "outputs": [
        {
          "output_type": "stream",
          "name": "stdout",
          "text": [
            "hello world\n",
            "11\n"
          ]
        }
      ]
    },
    {
      "cell_type": "markdown",
      "source": [
        "Q-3 Write a code to slice the first 3 characters from the string \"Python Programming\"."
      ],
      "metadata": {
        "id": "62kyyIjkYEqG"
      }
    },
    {
      "cell_type": "code",
      "source": [
        "s = \"Python Programming\"\n",
        "print(s[0:3])"
      ],
      "metadata": {
        "colab": {
          "base_uri": "https://localhost:8080/"
        },
        "id": "qz0Oi-aCYLB2",
        "outputId": "ff479620-f09b-493d-bd39-e50a40aa866e"
      },
      "execution_count": 7,
      "outputs": [
        {
          "output_type": "stream",
          "name": "stdout",
          "text": [
            "Pyt\n"
          ]
        }
      ]
    },
    {
      "cell_type": "markdown",
      "source": [
        "Q-4  Write a code to convert the string \"hello\" to uppercase."
      ],
      "metadata": {
        "id": "KBYO6Cx7ZNh1"
      }
    },
    {
      "cell_type": "code",
      "source": [
        "a = \"hello\"\n",
        "print(a.upper())"
      ],
      "metadata": {
        "colab": {
          "base_uri": "https://localhost:8080/"
        },
        "id": "xT4DtR0LZPd1",
        "outputId": "f3318ff7-436e-4cdd-81fd-16bf08111bdc"
      },
      "execution_count": 8,
      "outputs": [
        {
          "output_type": "stream",
          "name": "stdout",
          "text": [
            "HELLO\n"
          ]
        }
      ]
    },
    {
      "cell_type": "markdown",
      "source": [
        "Q-5  Write a code to replace the word \"apple\" with \"orange\" in the string \"I like apple\"."
      ],
      "metadata": {
        "id": "rD5flZcQZ3CW"
      }
    },
    {
      "cell_type": "code",
      "source": [
        "a = \"I like apple\"\n",
        "print(a.replace(\"apple\" , \"orange\"))"
      ],
      "metadata": {
        "colab": {
          "base_uri": "https://localhost:8080/"
        },
        "id": "bnorUb0QZ6PE",
        "outputId": "6cee0421-9aa0-41a4-c2ff-d078ef944274"
      },
      "execution_count": 9,
      "outputs": [
        {
          "output_type": "stream",
          "name": "stdout",
          "text": [
            "I like orange\n"
          ]
        }
      ]
    },
    {
      "cell_type": "markdown",
      "source": [
        "Q-6 Write a code to create a list with numbers 1 to 5 and print it."
      ],
      "metadata": {
        "id": "hAhYAatKbA5m"
      }
    },
    {
      "cell_type": "code",
      "source": [
        "number = [1, 2, 3, 4, 5]\n",
        "print(number)"
      ],
      "metadata": {
        "colab": {
          "base_uri": "https://localhost:8080/"
        },
        "id": "oYeglRuVbF2g",
        "outputId": "84ca6f86-137b-4b2b-8f07-378d2ffac69b"
      },
      "execution_count": 10,
      "outputs": [
        {
          "output_type": "stream",
          "name": "stdout",
          "text": [
            "[1, 2, 3, 4, 5]\n"
          ]
        }
      ]
    },
    {
      "cell_type": "markdown",
      "source": [
        "Q-7 Write a code to append the number 10 to the list [1, 2, 3, 4]."
      ],
      "metadata": {
        "id": "LUTx4H0RcKj3"
      }
    },
    {
      "cell_type": "code",
      "source": [
        "number = [1, 2, 3, 4]\n",
        "number.append(10)\n",
        "print(number)"
      ],
      "metadata": {
        "colab": {
          "base_uri": "https://localhost:8080/"
        },
        "id": "jSj-GvWYcN7P",
        "outputId": "d51e2801-2aef-45be-a5fd-f5e6bc97314f"
      },
      "execution_count": 12,
      "outputs": [
        {
          "output_type": "stream",
          "name": "stdout",
          "text": [
            "[1, 2, 3, 4, 10]\n"
          ]
        }
      ]
    },
    {
      "cell_type": "markdown",
      "source": [
        "Q-8  Write a code to remove the number 3 from the list [1, 2, 3, 4, 5]."
      ],
      "metadata": {
        "id": "Dw0d6CEqc3Q2"
      }
    },
    {
      "cell_type": "code",
      "source": [
        "number = [1, 2, 3, 4, 5]\n",
        "number.remove(3)\n",
        "print(number)"
      ],
      "metadata": {
        "colab": {
          "base_uri": "https://localhost:8080/"
        },
        "id": "GpZe81mnc26g",
        "outputId": "02b3e8ac-527f-4cba-99d7-642a542bbf73"
      },
      "execution_count": 13,
      "outputs": [
        {
          "output_type": "stream",
          "name": "stdout",
          "text": [
            "[1, 2, 4, 5]\n"
          ]
        }
      ]
    },
    {
      "cell_type": "markdown",
      "source": [
        "Q-9  Write a code to access the second element in the list ['a', 'b', 'c', 'd']."
      ],
      "metadata": {
        "id": "fyNln5qqdVke"
      }
    },
    {
      "cell_type": "code",
      "source": [
        "letters = ['a', 'b', 'c', 'd']\n",
        "print(letters[1])"
      ],
      "metadata": {
        "colab": {
          "base_uri": "https://localhost:8080/"
        },
        "id": "NCNpm-mBdX-m",
        "outputId": "cf4b0bca-38c9-4932-c265-e2bdca16a3f0"
      },
      "execution_count": 17,
      "outputs": [
        {
          "output_type": "stream",
          "name": "stdout",
          "text": [
            "b\n"
          ]
        }
      ]
    },
    {
      "cell_type": "markdown",
      "source": [
        "Q-10 Write a code to reverse the list [10, 20, 30, 40, 50]."
      ],
      "metadata": {
        "id": "aR1pbkiRdwZV"
      }
    },
    {
      "cell_type": "code",
      "source": [
        "a = [10, 20, 30, 40, 50]\n",
        "a.reverse()\n",
        "print(a)"
      ],
      "metadata": {
        "colab": {
          "base_uri": "https://localhost:8080/"
        },
        "id": "Lg8NxLZpd6SO",
        "outputId": "91b36cbb-49f7-40a6-e632-8811a9d0e9f5"
      },
      "execution_count": 21,
      "outputs": [
        {
          "output_type": "stream",
          "name": "stdout",
          "text": [
            "[50, 40, 30, 20, 10]\n"
          ]
        }
      ]
    },
    {
      "cell_type": "markdown",
      "source": [
        "Q-11 Write a code to create a tuple with the elements 100, 200, 300 and print it."
      ],
      "metadata": {
        "id": "-1EQwoL9nhUF"
      }
    },
    {
      "cell_type": "code",
      "source": [
        "my_tuple = (100, 200, 300)\n",
        "print(my_tuple)"
      ],
      "metadata": {
        "colab": {
          "base_uri": "https://localhost:8080/"
        },
        "id": "oohel1-xoZUN",
        "outputId": "e2c21fc0-37f1-4fa9-fa82-3b3033abb266"
      },
      "execution_count": 83,
      "outputs": [
        {
          "output_type": "stream",
          "name": "stdout",
          "text": [
            "(100, 200, 300)\n"
          ]
        }
      ]
    },
    {
      "cell_type": "markdown",
      "source": [
        "Q-12 Write a code to access the second-to-last element of the tuple ('red', 'green', 'blue', 'yellow')."
      ],
      "metadata": {
        "id": "P12xOQfxpK33"
      }
    },
    {
      "cell_type": "code",
      "source": [
        "colors = ('red', 'green', 'blue', 'yellow')\n",
        "print(colors[-2])"
      ],
      "metadata": {
        "colab": {
          "base_uri": "https://localhost:8080/"
        },
        "id": "6NQ6y7EepPn1",
        "outputId": "6a5d2625-e21f-4bd0-dc68-2deee56882cb"
      },
      "execution_count": 34,
      "outputs": [
        {
          "output_type": "stream",
          "name": "stdout",
          "text": [
            "blue\n"
          ]
        }
      ]
    },
    {
      "cell_type": "markdown",
      "source": [
        "Q-13 Write a code to find the minimum number in the tuple (10, 20, 5, 15)."
      ],
      "metadata": {
        "id": "FJ7fHX9gp_R0"
      }
    },
    {
      "cell_type": "code",
      "source": [
        "number = (10, 20, 5, 15)\n",
        "print(min(number))\n"
      ],
      "metadata": {
        "colab": {
          "base_uri": "https://localhost:8080/"
        },
        "id": "6BU_zNF2qEkx",
        "outputId": "797e1b8b-b138-47bb-9979-167e9283d735"
      },
      "execution_count": 35,
      "outputs": [
        {
          "output_type": "stream",
          "name": "stdout",
          "text": [
            "5\n"
          ]
        }
      ]
    },
    {
      "cell_type": "markdown",
      "source": [
        "Q-14 Write a code to find the index of the element \"cat\" in the tuple ('dog', 'cat', 'rabbit')."
      ],
      "metadata": {
        "id": "KelbZxnCqtr1"
      }
    },
    {
      "cell_type": "code",
      "source": [
        "animal = ('dog', 'cat', 'rabbit',)\n",
        "print(animal.index(\"cat\"))"
      ],
      "metadata": {
        "colab": {
          "base_uri": "https://localhost:8080/"
        },
        "id": "BGSlC-n7qwU9",
        "outputId": "4c2f3005-4081-40a7-e96f-a42f4115f0bc"
      },
      "execution_count": 52,
      "outputs": [
        {
          "output_type": "stream",
          "name": "stdout",
          "text": [
            "1\n"
          ]
        }
      ]
    },
    {
      "cell_type": "markdown",
      "source": [
        "Q-15 Write a code to create a tuple containing three different fruits and check if \"kiwi\" is in it."
      ],
      "metadata": {
        "id": "R9ZARePrrW0E"
      }
    },
    {
      "cell_type": "code",
      "source": [
        "fruits = (\"apple\", \"banana\", \"mango\")\n",
        "\n",
        "if \"kiwi\" in fruits:\n",
        "    print(\"Kiwi is in the tuple.\")\n",
        "else:\n",
        "    print(\"Kiwi is not in the tuple.\")"
      ],
      "metadata": {
        "colab": {
          "base_uri": "https://localhost:8080/"
        },
        "id": "4JMD4CAJrail",
        "outputId": "b702abe7-753e-4c08-d23b-082e477928f5"
      },
      "execution_count": 54,
      "outputs": [
        {
          "output_type": "stream",
          "name": "stdout",
          "text": [
            "Kiwi is not in the tuple.\n"
          ]
        }
      ]
    },
    {
      "cell_type": "markdown",
      "source": [
        "Q--16 Write a code to create a set with the elements 'a', 'b', 'c' and print it."
      ],
      "metadata": {
        "id": "tATeQLI_sQ79"
      }
    },
    {
      "cell_type": "code",
      "source": [
        "alphabet = {'a', 'b', 'c'}\n",
        "print(alphabet)"
      ],
      "metadata": {
        "colab": {
          "base_uri": "https://localhost:8080/"
        },
        "id": "oIxIjhLmsTmm",
        "outputId": "0a4b8637-7475-4d63-f519-98463c4f9af5"
      },
      "execution_count": 55,
      "outputs": [
        {
          "output_type": "stream",
          "name": "stdout",
          "text": [
            "{'a', 'c', 'b'}\n"
          ]
        }
      ]
    },
    {
      "cell_type": "markdown",
      "source": [
        "Q-17 Write a code to clear all elements from the set {1, 2, 3, 4, 5}."
      ],
      "metadata": {
        "id": "leSTdw-KtT4O"
      }
    },
    {
      "cell_type": "code",
      "source": [
        "number = {1, 2, 3, 4, 5}\n",
        "number.clear()\n",
        "print(number)"
      ],
      "metadata": {
        "colab": {
          "base_uri": "https://localhost:8080/"
        },
        "id": "cXxe5pZJtZGg",
        "outputId": "7f07d08e-6e69-42b0-8beb-e39bc8fa2118"
      },
      "execution_count": 56,
      "outputs": [
        {
          "output_type": "stream",
          "name": "stdout",
          "text": [
            "set()\n"
          ]
        }
      ]
    },
    {
      "cell_type": "markdown",
      "source": [
        "Q-18  Write a code to remove the element 4 from the set {1, 2, 3, 4}."
      ],
      "metadata": {
        "id": "9UJC78Pmtvy1"
      }
    },
    {
      "cell_type": "code",
      "source": [
        "number = {1, 2, 3, 4}\n",
        "number.remove(4)\n",
        "print(number)"
      ],
      "metadata": {
        "colab": {
          "base_uri": "https://localhost:8080/"
        },
        "id": "ox-A05LLtx_D",
        "outputId": "7347949e-8e0a-474e-dc49-8b9370f3b363"
      },
      "execution_count": 57,
      "outputs": [
        {
          "output_type": "stream",
          "name": "stdout",
          "text": [
            "{1, 2, 3}\n"
          ]
        }
      ]
    },
    {
      "cell_type": "markdown",
      "source": [
        "Q-19 Write a code to find the union of two sets {1, 2, 3} and {3, 4, 5}.\n"
      ],
      "metadata": {
        "id": "hLzl9Rs5uX34"
      }
    },
    {
      "cell_type": "code",
      "source": [
        "number1 = {1, 2, 3}\n",
        "number2 = {3, 4, 5}\n",
        "\n",
        "union_set = number1.union(number2)\n",
        "print(union_set)"
      ],
      "metadata": {
        "colab": {
          "base_uri": "https://localhost:8080/"
        },
        "id": "SUmsCL_wuZjW",
        "outputId": "3d4f4584-f4fb-405b-d490-f730e4c83581"
      },
      "execution_count": 58,
      "outputs": [
        {
          "output_type": "stream",
          "name": "stdout",
          "text": [
            "{1, 2, 3, 4, 5}\n"
          ]
        }
      ]
    },
    {
      "cell_type": "markdown",
      "source": [
        "Q-20 Write a code to find the intersection of two sets {1, 2, 3} and {2, 3, 4}."
      ],
      "metadata": {
        "id": "sF968OcQvLiK"
      }
    },
    {
      "cell_type": "code",
      "source": [
        "number1 = {1, 2, 3}\n",
        "number2 = {2, 3, 4}\n",
        "\n",
        "intersection_set = number1.intersection(number2)\n",
        "print(intersection_set)"
      ],
      "metadata": {
        "colab": {
          "base_uri": "https://localhost:8080/"
        },
        "id": "UAzmKjw1vOGO",
        "outputId": "5c56810e-a5f4-4f9c-e712-c6f0f8c5a2a0"
      },
      "execution_count": 59,
      "outputs": [
        {
          "output_type": "stream",
          "name": "stdout",
          "text": [
            "{2, 3}\n"
          ]
        }
      ]
    },
    {
      "cell_type": "markdown",
      "source": [
        "Q-21 Write a code to create a dictionary with the keys \"name\", \"age\", and \"city\", and print it."
      ],
      "metadata": {
        "id": "xL_QVQpDvw0m"
      }
    },
    {
      "cell_type": "code",
      "source": [
        "person = {\"name\": \"Alice\",\"age\": 25,\"city\": \"mathura\"}\n",
        "\n",
        "print(person)"
      ],
      "metadata": {
        "colab": {
          "base_uri": "https://localhost:8080/"
        },
        "id": "wAzSTDwOv0bW",
        "outputId": "e3083667-5c59-483c-fe04-02f433c2b2fa"
      },
      "execution_count": 61,
      "outputs": [
        {
          "output_type": "stream",
          "name": "stdout",
          "text": [
            "{'name': 'Alice', 'age': 25, 'city': 'mathura'}\n"
          ]
        }
      ]
    },
    {
      "cell_type": "markdown",
      "source": [
        "Q-22  Write a code to add a new key-value pair \"country\": \"USA\" to the dictionary {'name': 'John', 'age': 25}."
      ],
      "metadata": {
        "id": "AwpOWEQJwa4x"
      }
    },
    {
      "cell_type": "code",
      "source": [
        "person = {'name': 'John', 'age': 25}\n",
        "person['country'] = 'USA'\n",
        "print(person)"
      ],
      "metadata": {
        "colab": {
          "base_uri": "https://localhost:8080/"
        },
        "id": "vKBS2u97wfy6",
        "outputId": "e87d4a55-f40f-4963-de3d-3ececbe546e4"
      },
      "execution_count": 62,
      "outputs": [
        {
          "output_type": "stream",
          "name": "stdout",
          "text": [
            "{'name': 'John', 'age': 25, 'country': 'USA'}\n"
          ]
        }
      ]
    },
    {
      "cell_type": "markdown",
      "source": [
        "Q-23 Write a code to access the value associated with the key \"name\" in the dictionary {'name': 'Alice', 'age': 30}.\n"
      ],
      "metadata": {
        "id": "G_Aae_aRw2Wu"
      }
    },
    {
      "cell_type": "code",
      "source": [
        "person = {'name': 'Alice', 'age': 30}\n",
        "print(person['name'])"
      ],
      "metadata": {
        "colab": {
          "base_uri": "https://localhost:8080/"
        },
        "id": "A_bUolrNw4xU",
        "outputId": "f5d4fb08-8dfe-4750-b112-069474f94eb7"
      },
      "execution_count": 63,
      "outputs": [
        {
          "output_type": "stream",
          "name": "stdout",
          "text": [
            "Alice\n"
          ]
        }
      ]
    },
    {
      "cell_type": "markdown",
      "source": [
        "Q-24 Write a code to remove the key \"age\" from the dictionary {'name': 'Bob', 'age': 22, 'city': 'New York'}."
      ],
      "metadata": {
        "id": "nqP4ZXlmxMif"
      }
    },
    {
      "cell_type": "code",
      "source": [
        "person = {'name': 'Bob', 'age': 22, 'city': 'New York'}\n",
        "del person['age']\n",
        "print(person)\n"
      ],
      "metadata": {
        "colab": {
          "base_uri": "https://localhost:8080/"
        },
        "id": "KNZ13dV2xPGD",
        "outputId": "f1de77d2-ef26-48c6-fe15-0bba64807f5c"
      },
      "execution_count": 64,
      "outputs": [
        {
          "output_type": "stream",
          "name": "stdout",
          "text": [
            "{'name': 'Bob', 'city': 'New York'}\n"
          ]
        }
      ]
    },
    {
      "cell_type": "markdown",
      "source": [
        "Q-25 Write a code to check if the key \"city\" exists in the dictionary {'name': 'Alice', 'city': 'Paris'}."
      ],
      "metadata": {
        "id": "I6CLDfGayJ42"
      }
    },
    {
      "cell_type": "code",
      "source": [
        "person = {'name': 'Alice', 'city': 'Paris'}\n",
        "\n",
        "if 'city' in person:\n",
        "    print(\"Key 'city' exists in the dictionary.\")\n",
        "else:\n",
        "    print(\"Key 'city' does not exist in the dictionary.\")"
      ],
      "metadata": {
        "colab": {
          "base_uri": "https://localhost:8080/"
        },
        "id": "oKqzRh4ByM54",
        "outputId": "f0a6a930-4594-4f82-bae3-ce6604d5d135"
      },
      "execution_count": 70,
      "outputs": [
        {
          "output_type": "stream",
          "name": "stdout",
          "text": [
            "Key 'city' exists in the dictionary.\n"
          ]
        }
      ]
    },
    {
      "cell_type": "markdown",
      "source": [
        "Q-26 Write a code to create a list, a tuple, and a dictionary, and print them all."
      ],
      "metadata": {
        "id": "GmDoGIZGy63W"
      }
    },
    {
      "cell_type": "code",
      "source": [
        "# Creating a list\n",
        "my_list = [1, 2, 3]\n",
        "\n",
        "# Creating a tuple\n",
        "my_tuple = ('a', 'b', 'c')\n",
        "\n",
        "# Creating a dictionary\n",
        "my_dict = {'name': 'Alice', 'age': 30}\n",
        "\n",
        "# Printing all\n",
        "print(\"List:\", my_list)\n",
        "print(\"Tuple:\", my_tuple)\n",
        "print(\"Dictionary:\", my_dict)"
      ],
      "metadata": {
        "colab": {
          "base_uri": "https://localhost:8080/"
        },
        "id": "xV2FbKnky8_B",
        "outputId": "73ff9f10-9215-447e-86a4-6a59176e6681"
      },
      "execution_count": 71,
      "outputs": [
        {
          "output_type": "stream",
          "name": "stdout",
          "text": [
            "List: [1, 2, 3]\n",
            "Tuple: ('a', 'b', 'c')\n",
            "Dictionary: {'name': 'Alice', 'age': 30}\n"
          ]
        }
      ]
    },
    {
      "cell_type": "markdown",
      "source": [
        "Q-27 Write a code to create a list of 5 random numbers between 1 and 100, sort it in ascending order, and print the result.(replaced)"
      ],
      "metadata": {
        "id": "QHvNJk5mzjwY"
      }
    },
    {
      "cell_type": "code",
      "source": [
        "import random\n",
        "\n",
        "# Create a list of 5 random numbers between 1 and 100\n",
        "random_numbers = [random.randint(1, 100) for _ in range(5)]\n",
        "\n",
        "# Sort the list in ascending order\n",
        "random_numbers.sort()\n",
        "\n",
        "# Print the result\n",
        "print(random_numbers)"
      ],
      "metadata": {
        "colab": {
          "base_uri": "https://localhost:8080/"
        },
        "id": "xozGkMP1zpi_",
        "outputId": "29954627-12ce-4bb7-9354-18489d71a995"
      },
      "execution_count": 77,
      "outputs": [
        {
          "output_type": "stream",
          "name": "stdout",
          "text": [
            "[9, 14, 26, 41, 76]\n"
          ]
        }
      ]
    },
    {
      "cell_type": "markdown",
      "source": [
        "Q-28 Write a code to create a list with strings and print the element at the third index."
      ],
      "metadata": {
        "id": "o_OTdIYg0IH3"
      }
    },
    {
      "cell_type": "code",
      "source": [
        "my_list = [\"apple\", \"banana\", \"cherry\", \"date\", \"fig\"]\n",
        "print(my_list[3])"
      ],
      "metadata": {
        "colab": {
          "base_uri": "https://localhost:8080/"
        },
        "id": "C57iKU4A0KCg",
        "outputId": "d3a9e5b4-5d16-40c9-c6f5-442086b00795"
      },
      "execution_count": 78,
      "outputs": [
        {
          "output_type": "stream",
          "name": "stdout",
          "text": [
            "date\n"
          ]
        }
      ]
    },
    {
      "cell_type": "markdown",
      "source": [
        "Q-29 Write a code to combine two dictionaries into one and print the result."
      ],
      "metadata": {
        "id": "QlTN8UbB0VLf"
      }
    },
    {
      "cell_type": "code",
      "source": [
        "dict1 = {'a': 1, 'b': 2}\n",
        "dict2 = {'c': 3, 'd': 4}\n",
        "combined_dict = {**dict1, **dict2}\n",
        "print(combined_dict)"
      ],
      "metadata": {
        "colab": {
          "base_uri": "https://localhost:8080/"
        },
        "id": "00PD5wbm0Xje",
        "outputId": "393bf513-4ec5-44b7-c530-78ebe8b472ed"
      },
      "execution_count": 80,
      "outputs": [
        {
          "output_type": "stream",
          "name": "stdout",
          "text": [
            "{'a': 1, 'b': 2, 'c': 3, 'd': 4}\n"
          ]
        }
      ]
    },
    {
      "cell_type": "markdown",
      "source": [
        "Q-30 Write a code to convert a list of strings into a set.\n"
      ],
      "metadata": {
        "id": "r8xd5EBO0o2W"
      }
    },
    {
      "cell_type": "code",
      "source": [
        "my_list = [\"apple\", \"banana\", \"apple\", \"cherry\", \"banana\"]\n",
        "my_set = set(my_list)\n",
        "print(my_set)"
      ],
      "metadata": {
        "colab": {
          "base_uri": "https://localhost:8080/"
        },
        "id": "rjuM3ygK0utv",
        "outputId": "00aeabde-e358-4131-90fe-71fe3240fa75"
      },
      "execution_count": 81,
      "outputs": [
        {
          "output_type": "stream",
          "name": "stdout",
          "text": [
            "{'cherry', 'banana', 'apple'}\n"
          ]
        }
      ]
    }
  ]
}